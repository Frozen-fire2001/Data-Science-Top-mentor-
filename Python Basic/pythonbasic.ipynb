{
 "cells": [
  {
   "cell_type": "markdown",
   "id": "602da8c9-8e7b-4558-869f-78309cf757d0",
   "metadata": {},
   "source": [
    "1. Simple Message: Store a message in a variable, and then print that message."
   ]
  },
  {
   "cell_type": "code",
   "execution_count": 3,
   "id": "4e3b196c-4e50-43a1-a027-a6e8a33b2dad",
   "metadata": {},
   "outputs": [
    {
     "name": "stdout",
     "output_type": "stream",
     "text": [
      "Hello World\n"
     ]
    }
   ],
   "source": [
    "s=\"Hello World\"\n",
    "print(s)"
   ]
  },
  {
   "cell_type": "markdown",
   "id": "b61883f7-8732-4a27-a9f4-369a00b5e8ed",
   "metadata": {},
   "source": [
    "2. Store a message in a variable and print that message. Then change the\r\n",
    "value of your variable to a new message and print the new message."
   ]
  },
  {
   "cell_type": "code",
   "execution_count": 5,
   "id": "501f6fb6-976d-416f-9526-1e8f7ab07a23",
   "metadata": {},
   "outputs": [
    {
     "name": "stdout",
     "output_type": "stream",
     "text": [
      "Hello World\n",
      "Hiiii\n"
     ]
    }
   ],
   "source": [
    "s=\"Hello World\"\n",
    "print(s)\n",
    "s=\"Hiiii\"\n",
    "print(s)"
   ]
  },
  {
   "cell_type": "markdown",
   "id": "bfed8ac6-3226-44ea-b9b0-135115e06768",
   "metadata": {},
   "source": [
    "3. Store a person’s name in a variable and print a message to that person.\r\n",
    "Your message should be simple, such as, “Hello Eric, would you like to\r\n",
    "learn some Python today?”"
   ]
  },
  {
   "cell_type": "code",
   "execution_count": 15,
   "id": "cf2c90e2-3894-444a-8362-4705a54b7238",
   "metadata": {},
   "outputs": [
    {
     "name": "stdout",
     "output_type": "stream",
     "text": [
      "Hi Eric, how are you?\n"
     ]
    }
   ],
   "source": [
    "name = \"Eric\"\n",
    "print(f\"Hi {name}, how are you?\")\n"
   ]
  },
  {
   "cell_type": "markdown",
   "id": "3a47ef5c-7203-4c1c-8f28-d1561a875436",
   "metadata": {},
   "source": [
    "4. Find a quote from a famous person you admire. Print the quote and the\r\n",
    "name of its author. Your output should look something like the following,\r\n",
    "including the quotation marks: Albert Einstein once said, “A person who\r\n",
    "never made a mistake never tried anything new.”\r"
   ]
  },
  {
   "cell_type": "code",
   "execution_count": 17,
   "id": "fdcd0f4c-3c5a-40cb-96b3-dd96927e24ee",
   "metadata": {},
   "outputs": [
    {
     "name": "stdout",
     "output_type": "stream",
     "text": [
      "Nelson Mandela once said, “The greatest glory in living lies not in never falling, but in rising every time we fall.”\n"
     ]
    }
   ],
   "source": [
    "author = \"Nelson Mandela\"\n",
    "quote = \"The greatest glory in living lies not in never falling, but in rising every time we fall.\"\n",
    "print(f'{author} once said, “{quote}”')"
   ]
  },
  {
   "cell_type": "markdown",
   "id": "2000320b-e970-43db-af86-ebb8735ce1c3",
   "metadata": {},
   "source": [
    "5. Repeat Exercise 4, but this time store the famous person’s name in a\r\n",
    "variable called famous_person. Then compose your message and store it in\r\n",
    "a new variable called message. Print your message."
   ]
  },
  {
   "cell_type": "code",
   "execution_count": 19,
   "id": "6c3cd0aa-2e52-4ac3-8019-49e658e565e1",
   "metadata": {},
   "outputs": [
    {
     "name": "stdout",
     "output_type": "stream",
     "text": [
      "Nelson Mandela once said, “The greatest glory in living lies not in never falling, but in rising every time we fall.”\n"
     ]
    }
   ],
   "source": [
    "famous_person = \"Nelson Mandela\"\n",
    "quote = \"The greatest glory in living lies not in never falling, but in rising every time we fall.\"\n",
    "message = f'{famous_person} once said, “{quote}”'\n",
    "print(message)"
   ]
  },
  {
   "cell_type": "markdown",
   "id": "f701d1df-9a16-4876-bfca-e51c2c30666a",
   "metadata": {},
   "source": [
    "6. Write addition, subtraction, multiplication, and division operations that\r\n",
    "each result in the number 8. Be sure to enclose your operations in print\r\n",
    "statements to see the results. You should create four lines that look like\r\n",
    "this: print (5 + 3)\r\n",
    "Your output should simply be four lines with the number 8 appearing once\r\n",
    "on each line."
   ]
  },
  {
   "cell_type": "code",
   "execution_count": 23,
   "id": "0cba3082-cb02-4002-97d3-84da1f0b04f5",
   "metadata": {},
   "outputs": [
    {
     "name": "stdout",
     "output_type": "stream",
     "text": [
      "8\n",
      "8\n",
      "8\n",
      "8.0\n"
     ]
    }
   ],
   "source": [
    "print(5 + 3)      \n",
    "print(10 - 2)     \n",
    "print(4 * 2)      \n",
    "print(16 / 2)     "
   ]
  },
  {
   "cell_type": "markdown",
   "id": "d41bee98-8281-4cdd-b4c3-7482e34dde84",
   "metadata": {},
   "source": [
    "7. Store your favourite number in a variable. Then, using that variable, create\r\n",
    "a message that reveals your favourite number. Print that messageda motorcycle.”\r"
   ]
  },
  {
   "cell_type": "code",
   "execution_count": 25,
   "id": "c6af001e-30db-4b86-bbe4-98e24af1eb78",
   "metadata": {},
   "outputs": [
    {
     "name": "stdout",
     "output_type": "stream",
     "text": [
      "My favorite number is 7.\n"
     ]
    }
   ],
   "source": [
    "favorite_number = 7\n",
    "message = f\"My favorite number is {favorite_number}.\"\n",
    "print(message)"
   ]
  },
  {
   "cell_type": "markdown",
   "id": "a5d56f21-e763-4344-8018-299f4847e41f",
   "metadata": {},
   "source": [
    "8. Choose two of the programs you’ve written and add at least one comment\n",
    "to each. If you don’t have anything specific to write because your programs\n",
    "are too simple at this point, just add your name and the current date at the\n",
    "top of each program file. The"
   ]
  },
  {
   "cell_type": "code",
   "execution_count": 27,
   "id": "8f06b260-fa5e-4eff-96d1-d82d01071d2e",
   "metadata": {},
   "outputs": [
    {
     "name": "stdout",
     "output_type": "stream",
     "text": [
      "8\n",
      "8\n",
      "8\n",
      "8.0\n"
     ]
    }
   ],
   "source": [
    "# This program performs basic arithmetic operations that result in the number 8.\n",
    "\n",
    "print(5 + 3)      # Addition\n",
    "print(10 - 2)     # Subtraction\n",
    "print(4 * 2)      # Multiplication\n",
    "print(16 / 2)     # Division"
   ]
  },
  {
   "cell_type": "code",
   "execution_count": 29,
   "id": "4676ff9d-83ff-4ba6-ab23-b41a6ff9d2fc",
   "metadata": {},
   "outputs": [
    {
     "name": "stdout",
     "output_type": "stream",
     "text": [
      "Nelson Mandela once said, “The greatest glory in living lies not in never falling, but in rising every time we fall.”\n"
     ]
    }
   ],
   "source": [
    "# This program stores a famous quote and prints it.\n",
    "\n",
    "famous_person = \"Nelson Mandela\"\n",
    "quote = \"The greatest glory in living lies not in never falling, but in rising every time we fall.\"\n",
    "message = f'{famous_person} once said, “{quote}”'\n",
    "print(message)\n"
   ]
  },
  {
   "cell_type": "markdown",
   "id": "4be175ef-baf9-4aa1-abc7-5e00fdad5026",
   "metadata": {},
   "source": [
    "9. Store the names of a few of your friends in a list called names. Print each\n",
    "person’s name by accessing each element in the list, one at a time."
   ]
  },
  {
   "cell_type": "code",
   "execution_count": 31,
   "id": "5a05994c-ac55-4593-a918-f65b5eaf0f78",
   "metadata": {},
   "outputs": [
    {
     "name": "stdout",
     "output_type": "stream",
     "text": [
      "Alice\n",
      "Bob\n",
      "Charlie\n"
     ]
    }
   ],
   "source": [
    "names = [\"Alice\", \"Bob\", \"Charlie\"]\n",
    "print(names[0])\n",
    "print(names[1])\n",
    "print(names[2])"
   ]
  },
  {
   "cell_type": "markdown",
   "id": "3495e4ca-54b9-446b-9e68-169f7ea2ae40",
   "metadata": {},
   "source": [
    "10.Start with the list you used in Exercise 9, but instead of just printing each\n",
    "person’s name, print a message to them. The text of each message should\n",
    "be the same, but each message should be personalized with the person’s\n",
    "name."
   ]
  },
  {
   "cell_type": "code",
   "execution_count": 35,
   "id": "2a2156ed-d27f-4f55-9b73-99d4c78996b8",
   "metadata": {},
   "outputs": [
    {
     "name": "stdout",
     "output_type": "stream",
     "text": [
      "Hello Alice, how are you today?\n",
      "Hello Bob, how are you today?\n",
      "Hello Charlie, how are you today?\n"
     ]
    }
   ],
   "source": [
    "names = [\"Alice\", \"Bob\", \"Charlie\"]\n",
    "for name in names:\n",
    "    print(f\"Hello {name}, how are you today?\")"
   ]
  },
  {
   "cell_type": "markdown",
   "id": "8cf4681c-8121-415b-aacd-5b2357c9df0a",
   "metadata": {},
   "source": [
    "11.Think of your favourite mode of transportation, such as a motorcycle or a\n",
    "car, and make a list that stores several examples. Use your list to print a\n",
    "series of statements about these items, such as “I would like to own a\n",
    "Honda motorcycle.”"
   ]
  },
  {
   "cell_type": "code",
   "execution_count": 37,
   "id": "363a5cdb-9b84-476a-af88-d3c650545344",
   "metadata": {},
   "outputs": [
    {
     "name": "stdout",
     "output_type": "stream",
     "text": [
      "I would like to own a car.\n",
      "I would like to own a bicycle.\n",
      "I would like to own a motorcycle.\n"
     ]
    }
   ],
   "source": [
    "modes_of_transportation = [\"car\", \"bicycle\", \"motorcycle\"]\n",
    "for mode in modes_of_transportation:\n",
    "    print(f\"I would like to own a {mode}.\")"
   ]
  },
  {
   "cell_type": "code",
   "execution_count": null,
   "id": "1d7096c2-592e-4428-8347-c1d96ec7eaed",
   "metadata": {},
   "outputs": [],
   "source": []
  }
 ],
 "metadata": {
  "kernelspec": {
   "display_name": "Python 3 (ipykernel)",
   "language": "python",
   "name": "python3"
  },
  "language_info": {
   "codemirror_mode": {
    "name": "ipython",
    "version": 3
   },
   "file_extension": ".py",
   "mimetype": "text/x-python",
   "name": "python",
   "nbconvert_exporter": "python",
   "pygments_lexer": "ipython3",
   "version": "3.12.4"
  }
 },
 "nbformat": 4,
 "nbformat_minor": 5
}
